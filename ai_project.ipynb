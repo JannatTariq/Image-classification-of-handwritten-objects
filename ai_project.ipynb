{
 "cells": [
  {
   "cell_type": "code",
   "execution_count": 21,
   "metadata": {},
   "outputs": [
    {
     "name": "stdout",
     "output_type": "stream",
     "text": [
      " * Serving Flask app '__main__'\n",
      " * Debug mode: off\n"
     ]
    },
    {
     "name": "stderr",
     "output_type": "stream",
     "text": [
      "WARNING: This is a development server. Do not use it in a production deployment. Use a production WSGI server instead.\n",
      " * Running on http://127.0.0.1:5000\n",
      "Press CTRL+C to quit\n",
      "127.0.0.1 - - [14/May/2023 17:56:01] \"GET / HTTP/1.1\" 200 -\n",
      "127.0.0.1 - - [14/May/2023 17:56:02] \"GET /static/style.css HTTP/1.1\" 304 -\n",
      "127.0.0.1 - - [14/May/2023 17:56:02] \"GET /favicon.ico HTTP/1.1\" 404 -\n"
     ]
    },
    {
     "name": "stdout",
     "output_type": "stream",
     "text": [
      "1/1 [==============================] - 0s 57ms/step\n"
     ]
    },
    {
     "name": "stderr",
     "output_type": "stream",
     "text": [
      "127.0.0.1 - - [14/May/2023 17:56:09] \"POST / HTTP/1.1\" 200 -\n",
      "127.0.0.1 - - [14/May/2023 17:56:09] \"GET /static/style.css HTTP/1.1\" 304 -\n"
     ]
    },
    {
     "name": "stdout",
     "output_type": "stream",
     "text": [
      "1/1 [==============================] - 0s 26ms/step\n"
     ]
    },
    {
     "name": "stderr",
     "output_type": "stream",
     "text": [
      "127.0.0.1 - - [14/May/2023 17:56:20] \"POST / HTTP/1.1\" 200 -\n",
      "127.0.0.1 - - [14/May/2023 17:56:20] \"GET /static/style.css HTTP/1.1\" 304 -\n"
     ]
    },
    {
     "name": "stdout",
     "output_type": "stream",
     "text": [
      "1/1 [==============================] - 0s 30ms/step\n"
     ]
    },
    {
     "name": "stderr",
     "output_type": "stream",
     "text": [
      "127.0.0.1 - - [14/May/2023 17:56:30] \"POST / HTTP/1.1\" 200 -\n",
      "127.0.0.1 - - [14/May/2023 17:56:30] \"GET /static/style.css HTTP/1.1\" 304 -\n"
     ]
    },
    {
     "name": "stdout",
     "output_type": "stream",
     "text": [
      "1/1 [==============================] - 0s 26ms/step\n"
     ]
    },
    {
     "name": "stderr",
     "output_type": "stream",
     "text": [
      "127.0.0.1 - - [14/May/2023 17:56:37] \"POST / HTTP/1.1\" 200 -\n",
      "127.0.0.1 - - [14/May/2023 17:56:37] \"GET /static/style.css HTTP/1.1\" 304 -\n"
     ]
    },
    {
     "name": "stdout",
     "output_type": "stream",
     "text": [
      "1/1 [==============================] - 0s 25ms/step\n"
     ]
    },
    {
     "name": "stderr",
     "output_type": "stream",
     "text": [
      "127.0.0.1 - - [14/May/2023 17:56:44] \"POST / HTTP/1.1\" 200 -\n",
      "127.0.0.1 - - [14/May/2023 17:56:44] \"GET /static/style.css HTTP/1.1\" 304 -\n"
     ]
    },
    {
     "name": "stdout",
     "output_type": "stream",
     "text": [
      "1/1 [==============================] - 0s 43ms/step\n"
     ]
    },
    {
     "name": "stderr",
     "output_type": "stream",
     "text": [
      "127.0.0.1 - - [14/May/2023 17:56:55] \"POST / HTTP/1.1\" 200 -\n",
      "127.0.0.1 - - [14/May/2023 17:56:55] \"GET /static/style.css HTTP/1.1\" 304 -\n"
     ]
    },
    {
     "name": "stdout",
     "output_type": "stream",
     "text": [
      "1/1 [==============================] - 0s 25ms/step\n"
     ]
    },
    {
     "name": "stderr",
     "output_type": "stream",
     "text": [
      "127.0.0.1 - - [14/May/2023 17:57:03] \"POST / HTTP/1.1\" 200 -\n",
      "127.0.0.1 - - [14/May/2023 17:57:03] \"GET /static/style.css HTTP/1.1\" 304 -\n"
     ]
    },
    {
     "name": "stdout",
     "output_type": "stream",
     "text": [
      "1/1 [==============================] - 0s 26ms/step\n"
     ]
    },
    {
     "name": "stderr",
     "output_type": "stream",
     "text": [
      "127.0.0.1 - - [14/May/2023 17:57:11] \"POST / HTTP/1.1\" 200 -\n",
      "127.0.0.1 - - [14/May/2023 17:57:11] \"GET /static/style.css HTTP/1.1\" 304 -\n"
     ]
    },
    {
     "name": "stdout",
     "output_type": "stream",
     "text": [
      "1/1 [==============================] - 0s 28ms/step\n"
     ]
    },
    {
     "name": "stderr",
     "output_type": "stream",
     "text": [
      "127.0.0.1 - - [14/May/2023 17:57:20] \"POST / HTTP/1.1\" 200 -\n",
      "127.0.0.1 - - [14/May/2023 17:57:20] \"GET /static/style.css HTTP/1.1\" 304 -\n"
     ]
    },
    {
     "name": "stdout",
     "output_type": "stream",
     "text": [
      "1/1 [==============================] - 0s 24ms/step\n"
     ]
    },
    {
     "name": "stderr",
     "output_type": "stream",
     "text": [
      "127.0.0.1 - - [14/May/2023 17:57:29] \"POST / HTTP/1.1\" 200 -\n",
      "127.0.0.1 - - [14/May/2023 17:57:29] \"GET /static/style.css HTTP/1.1\" 304 -\n"
     ]
    },
    {
     "name": "stdout",
     "output_type": "stream",
     "text": [
      "1/1 [==============================] - 0s 23ms/step\n"
     ]
    },
    {
     "name": "stderr",
     "output_type": "stream",
     "text": [
      "127.0.0.1 - - [14/May/2023 17:57:40] \"POST / HTTP/1.1\" 200 -\n",
      "127.0.0.1 - - [14/May/2023 17:57:40] \"GET /static/style.css HTTP/1.1\" 304 -\n"
     ]
    },
    {
     "name": "stdout",
     "output_type": "stream",
     "text": [
      "1/1 [==============================] - 0s 35ms/step\n"
     ]
    },
    {
     "name": "stderr",
     "output_type": "stream",
     "text": [
      "127.0.0.1 - - [14/May/2023 17:57:51] \"POST / HTTP/1.1\" 200 -\n",
      "127.0.0.1 - - [14/May/2023 17:57:51] \"GET /static/style.css HTTP/1.1\" 304 -\n"
     ]
    },
    {
     "name": "stdout",
     "output_type": "stream",
     "text": [
      "1/1 [==============================] - 0s 27ms/step\n"
     ]
    },
    {
     "name": "stderr",
     "output_type": "stream",
     "text": [
      "127.0.0.1 - - [14/May/2023 17:57:58] \"POST / HTTP/1.1\" 200 -\n",
      "127.0.0.1 - - [14/May/2023 17:57:58] \"GET /static/style.css HTTP/1.1\" 304 -\n"
     ]
    },
    {
     "name": "stdout",
     "output_type": "stream",
     "text": [
      "1/1 [==============================] - 0s 33ms/step\n"
     ]
    },
    {
     "name": "stderr",
     "output_type": "stream",
     "text": [
      "127.0.0.1 - - [14/May/2023 17:58:07] \"POST / HTTP/1.1\" 200 -\n",
      "127.0.0.1 - - [14/May/2023 17:58:07] \"GET /static/style.css HTTP/1.1\" 304 -\n"
     ]
    }
   ],
   "source": [
    "from flask import Flask, render_template, request\n",
    "from PIL import Image\n",
    "import numpy as np\n",
    "import tensorflow as tf\n",
    "\n",
    "app = Flask(__name__, static_folder='static')\n",
    "model = tf.keras.models.load_model('neural_network_model.h5')\n",
    "\n",
    "@app.route('/', methods=['GET', 'POST'])\n",
    "def index():\n",
    "    if request.method == 'POST':\n",
    "        # Get the uploaded image file\n",
    "        file = request.files['file']\n",
    "        # Open the image using Pillow\n",
    "        pil_image = Image.open(file).convert('L')\n",
    "        # Resize the image to 28x28\n",
    "        pil_image = pil_image.resize((28, 28))\n",
    "        # Convert the image to a numpy array\n",
    "        np_image = np.array(pil_image)\n",
    "        # Reshape the image to a 1D array with 784 elements\n",
    "        np_image = np_image.reshape(1, 784)\n",
    "        # Normalize the pixel values\n",
    "        np_image = np_image / 255.0\n",
    "        # Use the model to predict the class of the input image\n",
    "        prediction = model.predict(np_image)\n",
    "        # Get the predicted class label\n",
    "        predicted_class = np.argmax(prediction[0])\n",
    "        return render_template('index.html', prediction=predicted_class)\n",
    "    return render_template('index.html')\n",
    "\n",
    "if __name__ == '__main__':\n",
    "    app.run()\n"
   ]
  },
  {
   "cell_type": "code",
   "execution_count": 33,
   "metadata": {},
   "outputs": [
    {
     "name": "stdout",
     "output_type": "stream",
     "text": [
      "Epoch 1/30\n",
      "216/216 [==============================] - 2s 6ms/step - loss: 2.0317 - accuracy: 0.5759 - val_loss: 1.6098 - val_accuracy: 0.7472\n",
      "Epoch 2/30\n",
      "216/216 [==============================] - 1s 4ms/step - loss: 1.2796 - accuracy: 0.7356 - val_loss: 0.9877 - val_accuracy: 0.8128\n",
      "Epoch 3/30\n",
      "216/216 [==============================] - 1s 4ms/step - loss: 0.8932 - accuracy: 0.7832 - val_loss: 0.7336 - val_accuracy: 0.8388\n",
      "Epoch 4/30\n",
      "216/216 [==============================] - 1s 4ms/step - loss: 0.7140 - accuracy: 0.8192 - val_loss: 0.6053 - val_accuracy: 0.8568\n",
      "Epoch 5/30\n",
      "216/216 [==============================] - 1s 4ms/step - loss: 0.6095 - accuracy: 0.8377 - val_loss: 0.5285 - val_accuracy: 0.8632\n",
      "Epoch 6/30\n",
      "216/216 [==============================] - 1s 4ms/step - loss: 0.5384 - accuracy: 0.8535 - val_loss: 0.4764 - val_accuracy: 0.8777\n",
      "Epoch 7/30\n",
      "216/216 [==============================] - 1s 4ms/step - loss: 0.4947 - accuracy: 0.8653 - val_loss: 0.4396 - val_accuracy: 0.8812\n",
      "Epoch 8/30\n",
      "216/216 [==============================] - 1s 6ms/step - loss: 0.4624 - accuracy: 0.8726 - val_loss: 0.4131 - val_accuracy: 0.8899\n",
      "Epoch 9/30\n",
      "216/216 [==============================] - 2s 7ms/step - loss: 0.4322 - accuracy: 0.8778 - val_loss: 0.3923 - val_accuracy: 0.8928\n",
      "Epoch 10/30\n",
      "216/216 [==============================] - 1s 6ms/step - loss: 0.4093 - accuracy: 0.8882 - val_loss: 0.3767 - val_accuracy: 0.8922\n",
      "Epoch 11/30\n",
      "216/216 [==============================] - 1s 6ms/step - loss: 0.3868 - accuracy: 0.8894 - val_loss: 0.3615 - val_accuracy: 0.8986\n",
      "Epoch 12/30\n",
      "216/216 [==============================] - 1s 7ms/step - loss: 0.3683 - accuracy: 0.8945 - val_loss: 0.3516 - val_accuracy: 0.9003\n",
      "Epoch 13/30\n",
      "216/216 [==============================] - 1s 7ms/step - loss: 0.3546 - accuracy: 0.8975 - val_loss: 0.3400 - val_accuracy: 0.9043\n",
      "Epoch 14/30\n",
      "216/216 [==============================] - 1s 7ms/step - loss: 0.3477 - accuracy: 0.8998 - val_loss: 0.3335 - val_accuracy: 0.9049\n",
      "Epoch 15/30\n",
      "216/216 [==============================] - 2s 7ms/step - loss: 0.3304 - accuracy: 0.9053 - val_loss: 0.3258 - val_accuracy: 0.9038\n",
      "Epoch 16/30\n",
      "216/216 [==============================] - 2s 7ms/step - loss: 0.3175 - accuracy: 0.9090 - val_loss: 0.3173 - val_accuracy: 0.9107\n",
      "Epoch 17/30\n",
      "216/216 [==============================] - 2s 7ms/step - loss: 0.3140 - accuracy: 0.9097 - val_loss: 0.3121 - val_accuracy: 0.9096\n",
      "Epoch 18/30\n",
      "216/216 [==============================] - 1s 7ms/step - loss: 0.3086 - accuracy: 0.9139 - val_loss: 0.3054 - val_accuracy: 0.9130\n",
      "Epoch 19/30\n",
      "216/216 [==============================] - 2s 7ms/step - loss: 0.2992 - accuracy: 0.9140 - val_loss: 0.3017 - val_accuracy: 0.9165\n",
      "Epoch 20/30\n",
      "216/216 [==============================] - 2s 8ms/step - loss: 0.2917 - accuracy: 0.9123 - val_loss: 0.2976 - val_accuracy: 0.9113\n",
      "Epoch 21/30\n",
      "216/216 [==============================] - 2s 8ms/step - loss: 0.2794 - accuracy: 0.9197 - val_loss: 0.2940 - val_accuracy: 0.9165\n",
      "Epoch 22/30\n",
      "216/216 [==============================] - 2s 11ms/step - loss: 0.2731 - accuracy: 0.9193 - val_loss: 0.2892 - val_accuracy: 0.9177\n",
      "Epoch 23/30\n",
      "216/216 [==============================] - 2s 11ms/step - loss: 0.2655 - accuracy: 0.9236 - val_loss: 0.2866 - val_accuracy: 0.9159\n",
      "Epoch 24/30\n",
      "216/216 [==============================] - 2s 11ms/step - loss: 0.2604 - accuracy: 0.9249 - val_loss: 0.2809 - val_accuracy: 0.9206\n",
      "Epoch 25/30\n",
      "216/216 [==============================] - 2s 12ms/step - loss: 0.2550 - accuracy: 0.9233 - val_loss: 0.2780 - val_accuracy: 0.9241\n",
      "Epoch 26/30\n",
      "216/216 [==============================] - 2s 10ms/step - loss: 0.2458 - accuracy: 0.9304 - val_loss: 0.2749 - val_accuracy: 0.9235\n",
      "Epoch 27/30\n",
      "216/216 [==============================] - 2s 9ms/step - loss: 0.2424 - accuracy: 0.9265 - val_loss: 0.2710 - val_accuracy: 0.9246\n",
      "Epoch 28/30\n",
      "216/216 [==============================] - 2s 9ms/step - loss: 0.2339 - accuracy: 0.9316 - val_loss: 0.2679 - val_accuracy: 0.9246\n",
      "Epoch 29/30\n",
      "216/216 [==============================] - 2s 11ms/step - loss: 0.2291 - accuracy: 0.9323 - val_loss: 0.2667 - val_accuracy: 0.9229\n",
      "Epoch 30/30\n",
      "216/216 [==============================] - 2s 9ms/step - loss: 0.2267 - accuracy: 0.9358 - val_loss: 0.2645 - val_accuracy: 0.9270\n",
      "68/68 [==============================] - 0s 3ms/step\n",
      "68/68 [==============================] - 0s 3ms/step\n",
      "Neural Network Model Regression Metrics:\n",
      "R2 Score: 0.8428080367964553\n",
      "Mean Absolute Error (MAE): 0.2792207792207792\n",
      "Mean Squared Error (MSE): 1.3181818181818181\n",
      "Root Mean Squared Error (RMSE): 1.1481209945740989\n",
      "----------------------------\n",
      "Support Vector Machine Model Regression Metrics:\n",
      "R2 Score: 0.8848991993572919\n",
      "Mean Absolute Error (MAE): 0.20640074211502782\n",
      "Mean Squared Error (MSE): 0.9652133580705009\n",
      "Root Mean Squared Error (RMSE): 0.9824527256160985\n",
      "Neural Network Model Metrics:\n",
      "Accuracy: 0.9243970315398887\n",
      "Precision: 0.9252133976159709\n",
      "Recall: 0.9249404266694695\n",
      "F1 Score: 0.9248086647832666\n",
      "ROC AUC Score: 0.9956137907955\n",
      "Confusion Matrix:\n",
      " [[209   0   0   3   0   1   5   1   0   0]\n",
      " [  0 200   0   1   0   0   4   1   0   0]\n",
      " [  3   0 184   8   4   1   2   2   6   0]\n",
      " [  0   0   4 205   0   5   2   6   6   1]\n",
      " [  0   1   1   0 202   0   5   0   1   6]\n",
      " [  1   0   0   3   1 184   4   0   4   2]\n",
      " [  2   0   1   0   3   1 199   0   1   0]\n",
      " [  1   1   2   2   3   0   0 198   0   9]\n",
      " [  2   0   2   4   3   8   1   1 205   1]\n",
      " [  1   3   2   4   6   1   0   0   3 207]]\n",
      "----------------------------\n",
      "Support Vector Machine Model Metrics:\n",
      "Accuracy: 0.9443413729128015\n",
      "Precision: 0.9457213449173627\n",
      "Recall: 0.9445939227201607\n",
      "F1 Score: 0.9447965877984286\n",
      "ROC AUC Score: 0.9694615531822046\n",
      "Confusion Matrix:\n",
      " [[209   0   3   0   0   0   5   2   0   0]\n",
      " [  0 203   0   0   0   0   3   0   0   0]\n",
      " [  2   0 195   1   0   0   0   9   3   0]\n",
      " [  0   0   4 212   0   2   1   7   0   3]\n",
      " [  0   1   7   0 200   0   1   4   1   2]\n",
      " [  3   0   2   1   1 187   0   3   2   0]\n",
      " [  1   0   1   0   2   0 198   4   1   0]\n",
      " [  0   0   3   2   2   0   0 203   0   6]\n",
      " [  0   0   1   1   0   2   0   3 220   0]\n",
      " [  0   3   2   4   4   1   0   3   1 209]]\n",
      "Neural Network Model Clustering Extrinsic Measures:\n",
      "Mutual Information: 1.9195109326354522\n",
      "Rand Index: 0.9710209247166489\n",
      "Adjusted Rand Index: 0.838745009660895\n",
      "----------------------------\n",
      "Neural Network Model Clustering Intrinsic Measures:\n",
      "Silhouette Score: -0.056492236\n",
      "Davies-Bouldin Index: 4.241478188701441\n",
      "----------------------------\n",
      "Support Vector Machine Model Clustering Extrinsic Measures:\n",
      "Mutual Information: 2.0135252834153934\n",
      "Rand Index: 0.9783792276665992\n",
      "Adjusted Rand Index: 0.8797103558239018\n",
      "----------------------------\n",
      "Support Vector Machine Model Clustering Intrinsic Measures:\n",
      "Silhouette Score: -0.05309994\n",
      "Davies-Bouldin Index: 4.318723002026866\n"
     ]
    },
    {
     "data": {
      "image/png": "[encoded data removed]",
      "text/plain": [
       "<Figure size 1200x400 with 2 Axes>"
      ]
     },
     "metadata": {},
     "output_type": "display_data"
    }
   ],
   "source": [
    "import os\n",
    "import numpy as np\n",
    "import pandas as pd\n",
    "import cv2\n",
    "from sklearn.model_selection import train_test_split\n",
    "from sklearn.preprocessing import StandardScaler\n",
    "from imblearn.over_sampling import RandomOverSampler\n",
    "import tensorflow as tf\n",
    "from keras.models import Sequential\n",
    "from keras.layers import Dense, Dropout\n",
    "from keras.wrappers.scikit_learn import KerasClassifier\n",
    "from sklearn.model_selection import GridSearchCV\n",
    "from sklearn.svm import SVC\n",
    "from sklearn.model_selection import cross_val_score\n",
    "from sklearn.metrics import r2_score, mean_absolute_error, mean_squared_error, accuracy_score, precision_score, recall_score, f1_score, roc_auc_score, confusion_matrix\n",
    "import matplotlib.pyplot as plt\n",
    "from sklearn.metrics import mutual_info_score, adjusted_rand_score, rand_score, silhouette_score, davies_bouldin_score\n",
    "import seaborn as sns\n",
    "\n",
    "# Set the path to the folder containing the test images\n",
    "path_to_folder = 'test_imag'\n",
    "\n",
    "# Get a list of all image file names in the folder\n",
    "file_names = os.listdir(path_to_folder)\n",
    "\n",
    "# Create a list to store the image data and corresponding labels\n",
    "images = []\n",
    "labels = []\n",
    "\n",
    "# Loop over each file in the folder\n",
    "for file_name in file_names:\n",
    "    # Extract the label from the file name (assuming the label is the first character)\n",
    "    label = int(file_name[0])\n",
    "    \n",
    "    # Read the image file and resize it to 28x28 pixels\n",
    "    img = cv2.imread(os.path.join(path_to_folder, file_name), cv2.IMREAD_GRAYSCALE)\n",
    "    img = cv2.resize(img, (28, 28))\n",
    "    \n",
    "    # Add the image data and corresponding label to the lists\n",
    "    images.append(img)\n",
    "    labels.append(label)\n",
    "\n",
    "# Convert the image data and labels to numpy arrays\n",
    "images = np.array(images)\n",
    "labels = np.array(labels)\n",
    "\n",
    "# Flatten the image data to 1D arrays\n",
    "images = images.reshape(-1, 784)\n",
    "\n",
    "# Normalize the pixel values to be between 0 and 1\n",
    "scaler = StandardScaler()\n",
    "images = scaler.fit_transform(images)\n",
    "\n",
    "# Check the balance of the dataset\n",
    "df1 = pd.Series(labels).value_counts()\n",
    "\n",
    "# Perform oversampling to address class imbalance\n",
    "oversampler = RandomOverSampler()\n",
    "images, labels = oversampler.fit_resample(images, labels)\n",
    "\n",
    "# Split the dataset into a training set and a testing set\n",
    "train_images, test_images, train_labels, test_labels = train_test_split(images, labels, test_size=0.2, random_state=42)\n",
    "\n",
    "# Normalize the pixel values of training and testing images\n",
    "train_images = train_images.astype(\"float32\") / 255.0\n",
    "test_images = test_images.astype(\"float32\") / 255.0\n",
    "\n",
    "def create_neural_network_model(units=128, optimizer='adam'):\n",
    "    model = Sequential([\n",
    "        Dense(units=units, activation='relu', input_shape=(28*28,)),\n",
    "        Dropout(0.5),\n",
    "        Dense(units=10, activation='softmax')\n",
    "    ])\n",
    "    model.compile(optimizer=optimizer,\n",
    "                  loss='sparse_categorical_crossentropy',\n",
    "                  metrics=['accuracy'])\n",
    "    return model\n",
    "\n",
    "# Train the neural network model\n",
    "neural_network_model = create_neural_network_model()\n",
    "neural_network_model.fit(train_images, train_labels, epochs=30, batch_size=32, validation_split=0.2)\n",
    "neural_network_model.save(\"neural_network_model.h5\")\n",
    "\n",
    "# Predict on the test set using the neural network model\n",
    "nn_test_predictions = neural_network_model.predict(test_images)\n",
    "nn_test_predictions = np.argmax(nn_test_predictions, axis=1)\n",
    "\n",
    "# Calculate classification metrics for the neural network model\n",
    "nn_accuracy = accuracy_score(test_labels, nn_test_predictions)\n",
    "nn_precision = precision_score(test_labels, nn_test_predictions, average='macro')\n",
    "nn_recall = recall_score(test_labels, nn_test_predictions, average='macro')\n",
    "nn_f1 = f1_score(test_labels, nn_test_predictions, average='macro')\n",
    "nn_test_probabilities = neural_network_model.predict(test_images)\n",
    "nn_roc_auc = roc_auc_score(test_labels, nn_test_probabilities, multi_class='ovr')\n",
    "nn_confusion_mat = confusion_matrix(test_labels, nn_test_predictions)\n",
    "\n",
    "# Define and train the support vector machine (SVM) model\n",
    "svm_model = SVC()\n",
    "svm_model.fit(train_images, train_labels)\n",
    "\n",
    "# Predict on the test set using the SVM model\n",
    "svm_test_predictions = svm_model.predict(test_images)\n",
    "\n",
    "# Calculate classification metrics for the SVM model\n",
    "svm_accuracy = accuracy_score(test_labels, svm_test_predictions)\n",
    "svm_precision = precision_score(test_labels, svm_test_predictions, average='macro')\n",
    "svm_recall = recall_score(test_labels, svm_test_predictions, average='macro')\n",
    "svm_f1 = f1_score(test_labels, svm_test_predictions, average='macro')\n",
    "\n",
    "# Obtain the decision values for each class\n",
    "svm_decision_values = svm_model.decision_function(test_images)\n",
    "\n",
    "# Convert decision values to class probabilities using one-vs-rest strategy\n",
    "svm_test_probabilities = np.zeros_like(svm_decision_values)\n",
    "svm_test_probabilities[np.arange(len(svm_decision_values)), svm_decision_values.argmax(1)] = 1\n",
    "\n",
    "svm_roc_auc = roc_auc_score(test_labels, svm_test_probabilities, multi_class='ovr')\n",
    "svm_confusion_mat = confusion_matrix(test_labels, svm_test_predictions)\n",
    "\n",
    "# Calculate regression metrics for the neural network model\n",
    "nn_r2_score = r2_score(test_labels, nn_test_predictions)\n",
    "nn_mae = mean_absolute_error(test_labels, nn_test_predictions)\n",
    "nn_mse = mean_squared_error(test_labels, nn_test_predictions)\n",
    "nn_rmse = np.sqrt(nn_mse)\n",
    "\n",
    "# Calculate regression metrics for the SVM model\n",
    "svm_r2_score = r2_score(test_labels, svm_test_predictions)\n",
    "svm_mae = mean_absolute_error(test_labels, svm_test_predictions)\n",
    "svm_mse = mean_squared_error(test_labels, svm_test_predictions)\n",
    "svm_rmse = np.sqrt(svm_mse)\n",
    "\n",
    "# Print the regression metrics for both models\n",
    "print(\"Neural Network Model Regression Metrics:\")\n",
    "print(\"R2 Score:\", nn_r2_score)\n",
    "print(\"Mean Absolute Error (MAE):\", nn_mae)\n",
    "print(\"Mean Squared Error (MSE):\", nn_mse)\n",
    "print(\"Root Mean Squared Error (RMSE):\", nn_rmse)\n",
    "print(\"----------------------------\")\n",
    "print(\"Support Vector Machine Model Regression Metrics:\")\n",
    "print(\"R2 Score:\", svm_r2_score)\n",
    "print(\"Mean Absolute Error (MAE):\", svm_mae)\n",
    "print(\"Mean Squared Error (MSE):\", svm_mse)\n",
    "print(\"Root Mean Squared Error (RMSE):\", svm_rmse)\n",
    "\n",
    "\n",
    "# Print the classification metrics for both models\n",
    "print(\"Neural Network Model Metrics:\")\n",
    "print(\"Accuracy:\", nn_accuracy)\n",
    "print(\"Precision:\", nn_precision)\n",
    "print(\"Recall:\", nn_recall)\n",
    "print(\"F1 Score:\", nn_f1)\n",
    "print(\"ROC AUC Score:\", nn_roc_auc)\n",
    "print(\"Confusion Matrix:\\n\", nn_confusion_mat)\n",
    "print(\"----------------------------\")\n",
    "print(\"Support Vector Machine Model Metrics:\")\n",
    "print(\"Accuracy:\", svm_accuracy)\n",
    "print(\"Precision:\", svm_precision)\n",
    "print(\"Recall:\", svm_recall)\n",
    "print(\"F1 Score:\", svm_f1)\n",
    "print(\"ROC AUC Score:\", svm_roc_auc)\n",
    "print(\"Confusion Matrix:\\n\", svm_confusion_mat)\n",
    "\n",
    "\n",
    "# Calculate the extrinsic clustering measures for the Neural Network model\n",
    "nn_mi_score = mutual_info_score(test_labels, nn_test_predictions)\n",
    "nn_rand_index = rand_score(test_labels, nn_test_predictions)\n",
    "nn_adjusted_rand_index = adjusted_rand_score(test_labels, nn_test_predictions)\n",
    "\n",
    "# Calculate the extrinsic clustering measures for the SVM model\n",
    "svm_mi_score = mutual_info_score(test_labels, svm_test_predictions)\n",
    "svm_rand_index = rand_score(test_labels, svm_test_predictions)\n",
    "svm_adjusted_rand_index = adjusted_rand_score(test_labels, svm_test_predictions)\n",
    "\n",
    "# Calculate the intrinsic clustering measures for the Neural Network model\n",
    "nn_silhouette = silhouette_score(test_images, nn_test_predictions)\n",
    "nn_davies_bouldin = davies_bouldin_score(test_images, nn_test_predictions)\n",
    "\n",
    "# Calculate the intrinsic clustering measures for the SVM model\n",
    "svm_silhouette = silhouette_score(test_images, svm_test_predictions)\n",
    "svm_davies_bouldin = davies_bouldin_score(test_images, svm_test_predictions)\n",
    "\n",
    "# Print the clustering measures for the Neural Network model\n",
    "print(\"Neural Network Model Clustering Extrinsic Measures:\")\n",
    "print(\"Mutual Information:\", nn_mi_score)\n",
    "print(\"Rand Index:\", nn_rand_index)\n",
    "print(\"Adjusted Rand Index:\", nn_adjusted_rand_index)\n",
    "print(\"----------------------------\")\n",
    "print(\"Neural Network Model Clustering Intrinsic Measures:\")\n",
    "print(\"Silhouette Score:\", nn_silhouette)\n",
    "print(\"Davies-Bouldin Index:\", nn_davies_bouldin)\n",
    "print(\"----------------------------\")\n",
    "\n",
    "# Print the clustering measures for the SVM model\n",
    "print(\"Support Vector Machine Model Clustering Extrinsic Measures:\")\n",
    "print(\"Mutual Information:\", svm_mi_score)\n",
    "print(\"Rand Index:\", svm_rand_index)\n",
    "print(\"Adjusted Rand Index:\", svm_adjusted_rand_index)\n",
    "print(\"----------------------------\")\n",
    "print(\"Support Vector Machine Model Clustering Intrinsic Measures:\")\n",
    "print(\"Silhouette Score:\", svm_silhouette)\n",
    "print(\"Davies-Bouldin Index:\", svm_davies_bouldin)\n",
    "\n",
    "\n",
    "# Visualize the confusion matrices\n",
    "fig, axes = plt.subplots(nrows=1, ncols=2, figsize=(12, 4))\n",
    "sns.heatmap(nn_confusion_mat, annot=True, fmt=\"d\", cmap=\"Blues\", cbar=False, ax=axes[0])\n",
    "axes[0].set_title(\"Neural Network Confusion Matrix\")\n",
    "axes[0].set_xlabel(\"Predicted Label\")\n",
    "axes[0].set_ylabel(\"True Label\")\n",
    "sns.heatmap(svm_confusion_mat, annot=True, fmt=\"d\", cmap=\"Blues\", cbar=False, ax=axes[1])\n",
    "axes[1].set_title(\"Support Vector Machine Confusion Matrix\")\n",
    "axes[1].set_xlabel(\"Predicted Label\")\n",
    "axes[1].set_ylabel(\"True Label\")\n",
    "plt.tight_layout()\n",
    "plt.show()"
   ]
  },
  {
   "cell_type": "code",
   "execution_count": null,
   "metadata": {},
   "outputs": [
    {
     "name": "stderr",
     "output_type": "stream",
     "text": [
      "C:\\Users\\Dell\\AppData\\Local\\Temp\\ipykernel_12264\\2928218769.py:1: DeprecationWarning: KerasClassifier is deprecated, use Sci-Keras (https://github.com/adriangb/scikeras) instead. See https://www.adriangb.com/scikeras/stable/migration.html for help migrating.\n",
      "  clf = KerasClassifier(build_fn=create_neural_network_model, epochs=10, batch_size=32, verbose=0)\n"
     ]
    },
    {
     "name": "stdout",
     "output_type": "stream",
     "text": [
      "Cross-validation scores:  [0.89449275 0.90492755 0.90202898 0.89913046 0.89385152]\n",
      "Mean score:  0.898886251449585\n",
      "Best: 0.904569 using {'optimizer': 'adam', 'units': 256}\n"
     ]
    }
   ],
   "source": [
    "clf = KerasClassifier(build_fn=create_neural_network_model, epochs=10, batch_size=32, verbose=0)\n",
    "\n",
    "# Evaluate the model using cross-validation\n",
    "scores = cross_val_score(clf, train_images, train_labels, cv=5)\n",
    "mean_score = np.mean(scores)\n",
    "\n",
    "print(\"Cross-validation scores: \", scores)\n",
    "print(\"Mean score: \", np.mean(scores))\n",
    "\n",
    "# define the hyperparameters to search over\n",
    "param_grid = {\n",
    "    'units': [64, 128, 256],\n",
    "    'optimizer': ['adam', 'sgd']\n",
    "}\n",
    "\n",
    "# perform grid search with 3-fold cross-validation\n",
    "grid = GridSearchCV(estimator=clf, param_grid=param_grid, cv=3)\n",
    "grid_result = grid.fit(train_images, train_labels)\n",
    "\n",
    "# print the best parameters and their accuracy\n",
    "print(\"Best: %f using %s\" % (grid_result.best_score_, grid_result.best_params_))\n"
   ]
  }
 ],
 "metadata": {
  "kernelspec": {
   "display_name": "Python 3",
   "language": "python",
   "name": "python3"
  },
  "language_info": {
   "codemirror_mode": {
    "name": "ipython",
    "version": 3
   },
   "file_extension": ".py",
   "mimetype": "text/x-python",
   "name": "python",
   "nbconvert_exporter": "python",
   "pygments_lexer": "ipython3",
   "version": "3.11.3"
  },
  "orig_nbformat": 4
 },
 "nbformat": 4,
 "nbformat_minor": 2
}
